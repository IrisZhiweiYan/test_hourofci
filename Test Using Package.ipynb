{
 "cells": [
  {
   "cell_type": "code",
   "execution_count": 6,
   "metadata": {},
   "outputs": [],
   "source": [
    "from hourofci import buttons\n",
    "from hourofci.hourofci_widgets import *"
   ]
  },
  {
   "cell_type": "code",
   "execution_count": 2,
   "metadata": {},
   "outputs": [],
   "source": [
    "# CHANGE in v2: move the answer catalog to each notebook\n",
    "# Put at the biginning of the notebook and will hide\n",
    "# I don't want to change the structure of the answer catalog\n",
    "# Keep as a library\n",
    "hash_answer_catalog = {'gateway': {'beginner': {'Q1': 'c62040943e0d0d3ba840788f89c68a6bf839c408209c578ed0af37733713b522', 'Q2': 'ac88c6e3452c7540d7df76d079ebff7b99752a3a4407f4def2961c22d14e503f', 'Q3': 'e73b2bc4043553b458eaa713735ba7a25190d747ee6f4db2dabac00817070db8', 'Q4': '3fdba35f04dc8c462986c992bcf875546257113072a909c162f7e470e581e278', 'Q5': '8b940be7fb78aaa6b6567dd7a3987996947460df1c668e698eb92ca77e425349', 'Q6': '62d7a6b1211d627650e2bf0c869b69b564e2cd74290ae1dd78ae4b5e20b0cfe7', 'Q7': '3fdba35f04dc8c462986c992bcf875546257113072a909c162f7e470e581e278', 'Q8': 'b530f329d65f246114bd293232aa31ec383289b020059c7628942ee9dcd55f9b', 'Q9': '7d2857159e3091222d89dc3a870f741fa522997ee31f6557fc29a7cd4387ddac'}}, 'parallel_programming': {'beginner': {'Q1': 'f5baf0e4336fd53b4c82b453ece859868475160d36f22e9551a0e9b10ac9cc00', 'Q2': '4a44dc15364204a80fe80e9039455cc1608281820fe2b24f1e5233ade6af1dd5', 'Q3': '7391b1eb195e2636fb66215bd7e893c665c6c00f2d4f4b2e68ecd6675db3492c', 'Q4': 'cf9dcf6da8a82be1335c398a4005def7ee3a53d4698c59dbc6b2b14e72d1263c', 'Q5': 'f91c5ef3017e7339963efb516609bc580cdd5c8ecf2714ff77dfcac07e4e5117'}, 'advanced': {'Q1': '8d51addd113608ec37781c46eb2aad4d81cc6ccab48fd047410f098fe45e97f0', 'Q2': '9f14025af0065b30e47e23ebb3b491d39ae8ed17d33739e5ff3827ffb3634953', 'Q3': '7391b1eb195e2636fb66215bd7e893c665c6c00f2d4f4b2e68ecd6675db3492c', 'Q4': 'e06a321148a8ed1ab42a0653286ddf1f752689f0d2fa4d449afab0baa6006136', 'Q5': 'f91c5ef3017e7339963efb516609bc580cdd5c8ecf2714ff77dfcac07e4e5117'}}}"
   ]
  },
  {
   "cell_type": "code",
   "execution_count": 10,
   "metadata": {},
   "outputs": [
    {
     "data": {
      "application/vnd.jupyter.widget-view+json": {
       "model_id": "4bebfaef4d2543a6aaef87936568d89b",
       "version_major": 2,
       "version_minor": 0
      },
      "text/plain": [
       "Button(button_style='info', description='Go!', style=ButtonStyle())"
      ]
     },
     "metadata": {},
     "output_type": "display_data"
    },
    {
     "data": {
      "application/vnd.jupyter.widget-view+json": {
       "model_id": "62d9045f26e24e84babb974e8a6df6c8",
       "version_major": 2,
       "version_minor": 0
      },
      "text/plain": [
       "IntSlider(value=0)"
      ]
     },
     "metadata": {},
     "output_type": "display_data"
    },
    {
     "data": {
      "application/vnd.jupyter.widget-view+json": {
       "model_id": "6b6d6d005dac46c7b6bac1d183693d10",
       "version_major": 2,
       "version_minor": 0
      },
      "text/plain": [
       "Button(button_style='success', description='Submit', icon='check', style=ButtonStyle(), tooltip='Description')"
      ]
     },
     "metadata": {},
     "output_type": "display_data"
    },
    {
     "data": {
      "application/vnd.jupyter.widget-view+json": {
       "model_id": "074c44071548416db5d7914d544bbcb4",
       "version_major": 2,
       "version_minor": 0
      },
      "text/plain": [
       "Valid(value=False)"
      ]
     },
     "metadata": {},
     "output_type": "display_data"
    },
    {
     "name": "stdout",
     "output_type": "stream",
     "text": [
      "Try Again!\n",
      "1.76 Seconds\n"
     ]
    }
   ],
   "source": [
    "buttons.gobtn(question = \"Q4\", widget_funct = IntSlider, hash_answer_catalog = hash_answer_catalog)"
   ]
  },
  {
   "cell_type": "code",
   "execution_count": 13,
   "metadata": {},
   "outputs": [
    {
     "ename": "NameError",
     "evalue": "name 'button_state' is not defined",
     "output_type": "error",
     "traceback": [
      "\u001b[1;31m---------------------------------------------------------------------------\u001b[0m",
      "\u001b[1;31mNameError\u001b[0m                                 Traceback (most recent call last)",
      "\u001b[1;32m<ipython-input-13-549e61f05eef>\u001b[0m in \u001b[0;36m<module>\u001b[1;34m\u001b[0m\n\u001b[1;32m----> 1\u001b[1;33m \u001b[0mbutton_state\u001b[0m\u001b[1;33m\u001b[0m\u001b[1;33m\u001b[0m\u001b[0m\n\u001b[0m",
      "\u001b[1;31mNameError\u001b[0m: name 'button_state' is not defined"
     ]
    }
   ],
   "source": [
    "button_state"
   ]
  }
 ],
 "metadata": {
  "kernelspec": {
   "display_name": "HourOfCI",
   "language": "python",
   "name": "hourofci"
  },
  "language_info": {
   "codemirror_mode": {
    "name": "ipython",
    "version": 3
   },
   "file_extension": ".py",
   "mimetype": "text/x-python",
   "name": "python",
   "nbconvert_exporter": "python",
   "pygments_lexer": "ipython3",
   "version": "3.7.3"
  },
  "toc": {
   "base_numbering": 1,
   "nav_menu": {},
   "number_sections": true,
   "sideBar": true,
   "skip_h1_title": false,
   "title_cell": "Table of Contents",
   "title_sidebar": "Contents",
   "toc_cell": false,
   "toc_position": {},
   "toc_section_display": true,
   "toc_window_display": false
  }
 },
 "nbformat": 4,
 "nbformat_minor": 2
}
